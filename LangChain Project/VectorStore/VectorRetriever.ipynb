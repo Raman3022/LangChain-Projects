{
 "cells": [
  {
   "cell_type": "markdown",
   "id": "dee9fc39",
   "metadata": {},
   "source": [
    "### Vector Strores and retrivers \n",
    "\n",
    "The Notebook contain the vector store and retriever abstractions. These abstarction are designed to support retriveal of data- from vector store databases and other sources -- for integration with LLM workflows/ THey are important for application that fetech data to be resoned over as part of model inference, as in the case of retrieval-augmented generation \n",
    "\n",
    "Things that are covered--\n",
    "\n",
    "Documents \n",
    "\n",
    "Vector Stores\n",
    "\n",
    "Retrievers "
   ]
  },
  {
   "cell_type": "markdown",
   "id": "396e6e19",
   "metadata": {},
   "source": [
    "#### Documents \n",
    "\n",
    "Langchain implements a documents abstraction, which intended to represent a unit of text and associated metadata. It has two attributes \n",
    "\n",
    "1.page content- a string respresenting the content of the document\n",
    "\n",
    "2.metadata- a dict containing arbitary metadata. The metadata attribute can capture information about the source of the data and its relationship to other documents and other information.Note that an individual document object represents a chunk of larger document"
   ]
  },
  {
   "cell_type": "code",
   "execution_count": 7,
   "id": "8c765dc2",
   "metadata": {},
   "outputs": [],
   "source": [
    "from langchain_core.documents import Document\n",
    "\n",
    "\n",
    "documents = [\n",
    "    Document(\n",
    "        page_content=\"Dogs are great companions, known for their loyaltya and friendliness\",\n",
    "        metadata={\"source\": \"mammal-pets-docs\"},\n",
    "    ),\n",
    "    Document(\n",
    "        page_content=\"Cars are independent pets that often enjoy thier own space\",\n",
    "        metadata={\"source\": \"mammal-pets-docs\"},\n",
    "    ),\n",
    "    Document(\n",
    "        page_content=\"Goldfish are popular pets for begineers, requiring relatively simple care\",\n",
    "        metadata={\"source\": \"fish-pets-docs\"},\n",
    "    ),\n",
    "    Document(\n",
    "        page_content=\"Parots are intelligent birds capable of mimicking human speech.\",\n",
    "        metadata={\"source\": \"mammal-pets-docs\"},\n",
    "    ),\n",
    "    Document(\n",
    "        page_content=\"Rabbits are social animals that need plenty of space to hop arround\",\n",
    "        metadata={\"source\": \"mammal-pets-docs\"},\n",
    "    ),\n",
    "    \n",
    "]\n"
   ]
  },
  {
   "cell_type": "code",
   "execution_count": 8,
   "id": "095396bd",
   "metadata": {},
   "outputs": [
    {
     "data": {
      "text/plain": [
       "ChatGroq(client=<groq.resources.chat.completions.Completions object at 0x00000153743B4FE0>, async_client=<groq.resources.chat.completions.AsyncCompletions object at 0x00000153743B6210>, model_name='Llama3-8b-8192', model_kwargs={}, groq_api_key=SecretStr('**********'))"
      ]
     },
     "execution_count": 8,
     "metadata": {},
     "output_type": "execute_result"
    }
   ],
   "source": [
    "import os \n",
    "from dotenv import load_dotenv\n",
    "load_dotenv()\n",
    "from langchain_groq import ChatGroq\n",
    "\n",
    "groq_api_key= os.getenv(\"GROQ_API_KEY\")\n",
    "\n",
    "os.environ[\"HF_TOKEN\"] = os.getenv(\"HF_TOKEN\")\n",
    "\n",
    "llm = ChatGroq(api_key=groq_api_key,model=\"Llama3-8b-8192\")\n",
    "llm"
   ]
  },
  {
   "cell_type": "code",
   "execution_count": 9,
   "id": "19b30a78",
   "metadata": {},
   "outputs": [],
   "source": [
    "from langchain_huggingface import HuggingFaceEmbeddings\n",
    "embeddings = HuggingFaceEmbeddings(model_name=\"all-MiniLM-L6-v2\")"
   ]
  },
  {
   "cell_type": "code",
   "execution_count": 10,
   "id": "5e7898ff",
   "metadata": {},
   "outputs": [
    {
     "data": {
      "text/plain": [
       "<langchain_chroma.vectorstores.Chroma at 0x1530331ac30>"
      ]
     },
     "execution_count": 10,
     "metadata": {},
     "output_type": "execute_result"
    }
   ],
   "source": [
    "## vectorstore \n",
    "from langchain_chroma import Chroma\n",
    "vectorstore = Chroma.from_documents(documents,embedding=embeddings)\n",
    "vectorstore \n"
   ]
  },
  {
   "cell_type": "code",
   "execution_count": 12,
   "id": "b73e958b",
   "metadata": {},
   "outputs": [
    {
     "data": {
      "text/plain": [
       "[Document(id='9184aaec-1b89-4c19-b55c-68c1f7f82a60', metadata={'source': 'mammal-pets-docs'}, page_content='Cars are independent pets that often enjoy thier own space'),\n",
       " Document(id='842d8bf2-8faa-4724-ad47-d2d8e8bd8b7c', metadata={'source': 'mammal-pets-docs'}, page_content='Dogs are great companions, known for their loyaltya and friendliness'),\n",
       " Document(id='14a54b57-fe15-473f-ba9f-8f2cce493f53', metadata={'source': 'mammal-pets-docs'}, page_content='Rabbits are social animals that need plenty of space to hop arround'),\n",
       " Document(id='7044ccaa-e6bd-4a0f-bb9d-4eec788d13d4', metadata={'source': 'fish-pets-docs'}, page_content='Goldfish are popular pets for begineers, requiring relatively simple care')]"
      ]
     },
     "execution_count": 12,
     "metadata": {},
     "output_type": "execute_result"
    }
   ],
   "source": [
    "vectorstore.similarity_search(\"Cat\")"
   ]
  },
  {
   "cell_type": "code",
   "execution_count": 13,
   "id": "6cc4e33b",
   "metadata": {},
   "outputs": [
    {
     "data": {
      "text/plain": [
       "[Document(id='9184aaec-1b89-4c19-b55c-68c1f7f82a60', metadata={'source': 'mammal-pets-docs'}, page_content='Cars are independent pets that often enjoy thier own space'),\n",
       " Document(id='842d8bf2-8faa-4724-ad47-d2d8e8bd8b7c', metadata={'source': 'mammal-pets-docs'}, page_content='Dogs are great companions, known for their loyaltya and friendliness'),\n",
       " Document(id='14a54b57-fe15-473f-ba9f-8f2cce493f53', metadata={'source': 'mammal-pets-docs'}, page_content='Rabbits are social animals that need plenty of space to hop arround'),\n",
       " Document(id='7044ccaa-e6bd-4a0f-bb9d-4eec788d13d4', metadata={'source': 'fish-pets-docs'}, page_content='Goldfish are popular pets for begineers, requiring relatively simple care')]"
      ]
     },
     "execution_count": 13,
     "metadata": {},
     "output_type": "execute_result"
    }
   ],
   "source": [
    "##async\n",
    "\n",
    "await vectorstore.asimilarity_search(\"cat\")"
   ]
  },
  {
   "cell_type": "code",
   "execution_count": 17,
   "id": "c72c36ef",
   "metadata": {},
   "outputs": [
    {
     "name": "stdout",
     "output_type": "stream",
     "text": [
      "[(Document(id='9184aaec-1b89-4c19-b55c-68c1f7f82a60', metadata={'source': 'mammal-pets-docs'}, page_content='Cars are independent pets that often enjoy thier own space'), 1.395796298980713), (Document(id='842d8bf2-8faa-4724-ad47-d2d8e8bd8b7c', metadata={'source': 'mammal-pets-docs'}, page_content='Dogs are great companions, known for their loyaltya and friendliness'), 1.5535989999771118), (Document(id='14a54b57-fe15-473f-ba9f-8f2cce493f53', metadata={'source': 'mammal-pets-docs'}, page_content='Rabbits are social animals that need plenty of space to hop arround'), 1.5779528617858887), (Document(id='7044ccaa-e6bd-4a0f-bb9d-4eec788d13d4', metadata={'source': 'fish-pets-docs'}, page_content='Goldfish are popular pets for begineers, requiring relatively simple care'), 1.7474007606506348)]\n"
     ]
    }
   ],
   "source": [
    "# Perform similarity search\n",
    "results = vectorstore.similarity_search_with_score(\"cat\")\n",
    "print(results)\n"
   ]
  },
  {
   "cell_type": "markdown",
   "id": "8e688ba0",
   "metadata": {},
   "source": [
    "### Retrievers \n",
    "\n",
    "Langchain vectorstore do not sub class runnable and so cannot be immediately into Langchain expression language chains\n",
    "\n",
    "LangChain Retrivers are runnables so they implement a standared set of methods (eg, sychronous and asynchronous and batch opearations) and are designed to be incoporated in LCEL chains\n",
    "\n",
    "\n",
    "we can create a simple version of this ourselves, without subclassing Retriever. if we choose what method we wish to use retrive documents, we can create a runnable easily. Below we will build one arround the similiarity search method :"
   ]
  },
  {
   "cell_type": "markdown",
   "id": "dfb5ade8",
   "metadata": {},
   "source": []
  },
  {
   "cell_type": "code",
   "execution_count": 19,
   "id": "1a0d5d27",
   "metadata": {},
   "outputs": [
    {
     "data": {
      "text/plain": [
       "[[Document(id='9184aaec-1b89-4c19-b55c-68c1f7f82a60', metadata={'source': 'mammal-pets-docs'}, page_content='Cars are independent pets that often enjoy thier own space')],\n",
       " [Document(id='842d8bf2-8faa-4724-ad47-d2d8e8bd8b7c', metadata={'source': 'mammal-pets-docs'}, page_content='Dogs are great companions, known for their loyaltya and friendliness')]]"
      ]
     },
     "execution_count": 19,
     "metadata": {},
     "output_type": "execute_result"
    }
   ],
   "source": [
    "from typing import List \n",
    "\n",
    "from langchain_core.documents import Document\n",
    "from langchain_core.runnables import RunnableLambda\n",
    "\n",
    "\n",
    "retriever = RunnableLambda(vectorstore.similarity_search).bind(k=1)\n",
    "\n",
    "retriever.batch ([\"cat\", \"dog\"])"
   ]
  },
  {
   "cell_type": "code",
   "execution_count": 20,
   "id": "6fdf892a",
   "metadata": {},
   "outputs": [
    {
     "data": {
      "text/plain": [
       "[[Document(id='9184aaec-1b89-4c19-b55c-68c1f7f82a60', metadata={'source': 'mammal-pets-docs'}, page_content='Cars are independent pets that often enjoy thier own space')],\n",
       " [Document(id='842d8bf2-8faa-4724-ad47-d2d8e8bd8b7c', metadata={'source': 'mammal-pets-docs'}, page_content='Dogs are great companions, known for their loyaltya and friendliness')]]"
      ]
     },
     "execution_count": 20,
     "metadata": {},
     "output_type": "execute_result"
    }
   ],
   "source": [
    "vectorstore.as_retriever(\n",
    "    search_type=\"similarity\", search_kawrgs={\"k\": 1})\n",
    "\n",
    "retriever.batch([\"cat\",\"dogs\"])\n",
    "\n"
   ]
  },
  {
   "cell_type": "code",
   "execution_count": null,
   "id": "4ebeaaf9",
   "metadata": {},
   "outputs": [
    {
     "name": "stdout",
     "output_type": "stream",
     "text": [
      "content='According to the provided context, dogs are great companions, known for their loyalty and friendliness.' additional_kwargs={} response_metadata={'token_usage': {'completion_tokens': 20, 'prompt_tokens': 100, 'total_tokens': 120, 'completion_time': 0.016666667, 'prompt_time': 0.012911195, 'queue_time': 0.021852961999999997, 'total_time': 0.029577862}, 'model_name': 'Llama3-8b-8192', 'system_fingerprint': 'fp_dadc9d6142', 'finish_reason': 'stop', 'logprobs': None} id='run-55ef8edc-2e9a-450b-bde0-61f52162c314-0' usage_metadata={'input_tokens': 100, 'output_tokens': 20, 'total_tokens': 120}\n"
     ]
    }
   ],
   "source": [
    "# RAG\n",
    "\n",
    "from langchain_core.prompts import ChatPromptTemplate\n",
    "from langchain_core.runnables import RunnablePassthrough\n",
    "\n",
    "message = \"\"\"\n",
    "Anwer this question using the provideed context only.\n",
    "\n",
    "{question}\n",
    "\n",
    "Context:\n",
    "\n",
    "{context}\n",
    "\"\"\"\n",
    "\n",
    "prompt = ChatPromptTemplate.from_messages([\"human\", message])\n",
    "\n",
    "rag_chain={\"context\": retriever,\"question\":RunnablePassthrough()}|prompt|llm\n",
    "\n",
    "response = rag_chain.invoke(\"tell me about dogs?\") \n",
    "print(response)\n"
   ]
  },
  {
   "cell_type": "code",
   "execution_count": null,
   "id": "62c6f720",
   "metadata": {},
   "outputs": [],
   "source": []
  }
 ],
 "metadata": {
  "kernelspec": {
   "display_name": "base",
   "language": "python",
   "name": "python3"
  },
  "language_info": {
   "codemirror_mode": {
    "name": "ipython",
    "version": 3
   },
   "file_extension": ".py",
   "mimetype": "text/x-python",
   "name": "python",
   "nbconvert_exporter": "python",
   "pygments_lexer": "ipython3",
   "version": "3.12.7"
  }
 },
 "nbformat": 4,
 "nbformat_minor": 5
}
