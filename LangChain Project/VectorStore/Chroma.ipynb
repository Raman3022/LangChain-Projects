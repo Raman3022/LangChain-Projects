{
 "cells": [
  {
   "cell_type": "markdown",
   "id": "5709a0b2",
   "metadata": {},
   "source": [
    "ChromaDB\n"
   ]
  },
  {
   "cell_type": "code",
   "execution_count": 1,
   "id": "061209ee",
   "metadata": {},
   "outputs": [],
   "source": [
    "## building sample vector db \n",
    "from langchain_chroma import Chroma\n",
    "from langchain_community.document_loaders import TextLoader\n",
    "from langchain_community.embeddings import OllamaEmbeddings\n",
    "from langchain_text_splitters import RecursiveCharacterTextSplitter \n"
   ]
  },
  {
   "cell_type": "code",
   "execution_count": 8,
   "id": "271359a5",
   "metadata": {},
   "outputs": [
    {
     "data": {
      "text/plain": [
       "[Document(metadata={'source': 'D:\\\\LangChain Project\\\\VectorStore\\\\speech.txt'}, page_content=\"Welcome to Bharti Local Market.\\nHow can I help you today?\\n\\nPlease wait while I connect you to an expert.\\nThank you for choosing our service.\\n\\nYour request has been received.\\nWe will get back to you shortly.\\n\\nHave a great day!\\n\\nSorry, I didn't understand that.\\nCould you please repeat?\\n\\nYour service is scheduled for tomorrow.\\nThe technician is on the way.\\n\\nPress one for support.\\nPress two for billing.\\n\\nPlease confirm your address.\\nWe appreciate your feedback.\\n\\nGoodbye and take care!\\n\\nYour payment was successful.\\nThe invoice has been sent to your email.\\n\\nDo you want to reschedule your service?\\nLet me check that for you.\\n\\nYour service has been rescheduled.\\nThank you for your patience.\\n\\nDo you want to reschedule your service?\\nLet me check that for you.\\n\\nYour service has been rescheduled.\\nThank you for your patience.\\n\\nPress five to talk to a customer service representative.\\nPress six for technical support.\\nPress seven for general inquiries.\\n\\nIs there anything else I can assist you with?\\nThank you for choosing Bharti Local Market.\\n\\nWe're experiencing a high volume of requests, please bear with us for a moment.\\nWe are currently processing your request.\\nPlease hold while we retrieve your information.\\n\\nWe’ve sent you a confirmation email with your service details.\\nYou will receive a reminder message 24 hours before your service appointment.\\n\\nPlease let us know how we can improve our services.\\nWe value your feedback and strive to provide the best experience.\\n\\n\")]"
      ]
     },
     "execution_count": 8,
     "metadata": {},
     "output_type": "execute_result"
    }
   ],
   "source": [
    "loader = TextLoader(r\"D:\\LangChain Project\\VectorStore\\speech.txt\")\n",
    "data = loader.load()\n",
    "data"
   ]
  },
  {
   "cell_type": "code",
   "execution_count": 9,
   "id": "0fb076cd",
   "metadata": {},
   "outputs": [],
   "source": [
    "#split\n",
    "text_splitter = RecursiveCharacterTextSplitter(chunk_size = 500, chunk_overlap=0)\n",
    "splits = text_splitter.split_documents(data)"
   ]
  },
  {
   "cell_type": "code",
   "execution_count": 13,
   "id": "7fc3c35b",
   "metadata": {},
   "outputs": [
    {
     "data": {
      "text/plain": [
       "<langchain_chroma.vectorstores.Chroma at 0x2dadb31df70>"
      ]
     },
     "execution_count": 13,
     "metadata": {},
     "output_type": "execute_result"
    }
   ],
   "source": [
    "# Specify a valid model name or pull the required model\n",
    "embedding = OllamaEmbeddings(model=\"gemma:2b\")  # Ensure \"llama2\" is pulled or replace with a valid model name\n",
    "vectordb = Chroma.from_documents(splits, embedding=embedding)\n",
    "vectordb"
   ]
  },
  {
   "cell_type": "code",
   "execution_count": 16,
   "id": "c58300dc",
   "metadata": {},
   "outputs": [
    {
     "data": {
      "text/plain": [
       "Document(id='44d46940-9f1b-4da7-b61a-766b6b06fce2', metadata={'source': 'D:\\\\LangChain Project\\\\VectorStore\\\\speech.txt'}, page_content=\"Is there anything else I can assist you with?\\nThank you for choosing Bharti Local Market.\\n\\nWe're experiencing a high volume of requests, please bear with us for a moment.\\nWe are currently processing your request.\\nPlease hold while we retrieve your information.\\n\\nWe’ve sent you a confirmation email with your service details.\\nYou will receive a reminder message 24 hours before your service appointment.\")"
      ]
     },
     "execution_count": 16,
     "metadata": {},
     "output_type": "execute_result"
    }
   ],
   "source": [
    "## qurey it \n",
    "query = \"Do you want to reschedule your service?\"\n",
    "docs=vectordb.similarity_search(query)\n",
    "docs[0]"
   ]
  },
  {
   "cell_type": "code",
   "execution_count": 22,
   "id": "6d72e853",
   "metadata": {},
   "outputs": [],
   "source": [
    "## saving to the disk \n",
    "\n",
    "vectordb = Chroma.from_documents(documents=splits, embedding=embedding, persist_directory=\"D:\\\\LangChain Project\\\\VectorStore\\\\speech_vectorstore\")"
   ]
  },
  {
   "cell_type": "code",
   "execution_count": 30,
   "id": "ac1b0a3b",
   "metadata": {},
   "outputs": [
    {
     "data": {
      "text/plain": [
       "[]"
      ]
     },
     "execution_count": 30,
     "metadata": {},
     "output_type": "execute_result"
    }
   ],
   "source": [
    "## load from disk\n",
    "\n",
    "db2 = Chroma(persist_directory=\"d:\\\\LangChain Project\\\\VectorStore\\\\Chroma\", embedding_function=embedding)\n",
    "docs = db2.similarity_search(query)\n",
    "docs\n",
    "\n"
   ]
  },
  {
   "cell_type": "code",
   "execution_count": null,
   "id": "f71e0eab",
   "metadata": {},
   "outputs": [
    {
     "data": {
      "text/plain": [
       "[(Document(id='dddd2b77-e625-49e7-8ffa-cb1d73878a52', metadata={'source': 'D:\\\\LangChain Project\\\\VectorStore\\\\speech.txt'}, page_content=\"Is there anything else I can assist you with?\\nThank you for choosing Bharti Local Market.\\n\\nWe're experiencing a high volume of requests, please bear with us for a moment.\\nWe are currently processing your request.\\nPlease hold while we retrieve your information.\\n\\nWe’ve sent you a confirmation email with your service details.\\nYou will receive a reminder message 24 hours before your service appointment.\"),\n",
       "  2282.3773266976023),\n",
       " (Document(id='9339fe84-d0d1-4937-94c9-d7c9db4cd7f5', metadata={'source': 'D:\\\\LangChain Project\\\\VectorStore\\\\speech.txt'}, page_content='Your payment was successful.\\nThe invoice has been sent to your email.\\n\\nDo you want to reschedule your service?\\nLet me check that for you.\\n\\nYour service has been rescheduled.\\nThank you for your patience.\\n\\nDo you want to reschedule your service?\\nLet me check that for you.\\n\\nYour service has been rescheduled.\\nThank you for your patience.\\n\\nPress five to talk to a customer service representative.\\nPress six for technical support.\\nPress seven for general inquiries.'),\n",
       "  2442.89069764504),\n",
       " (Document(id='9e3681ff-1815-4190-8e24-cf6c6c50fee9', metadata={'source': 'D:\\\\LangChain Project\\\\VectorStore\\\\speech.txt'}, page_content=\"Welcome to Bharti Local Market.\\nHow can I help you today?\\n\\nPlease wait while I connect you to an expert.\\nThank you for choosing our service.\\n\\nYour request has been received.\\nWe will get back to you shortly.\\n\\nHave a great day!\\n\\nSorry, I didn't understand that.\\nCould you please repeat?\\n\\nYour service is scheduled for tomorrow.\\nThe technician is on the way.\\n\\nPress one for support.\\nPress two for billing.\\n\\nPlease confirm your address.\\nWe appreciate your feedback.\\n\\nGoodbye and take care!\"),\n",
       "  2590.6465948898317),\n",
       " (Document(id='c41dec26-8e8d-4807-a528-f16c8ae8b883', metadata={'source': 'D:\\\\LangChain Project\\\\VectorStore\\\\speech.txt'}, page_content='Please let us know how we can improve our services.\\nWe value your feedback and strive to provide the best experience.'),\n",
       "  2971.218372316766)]"
      ]
     },
     "execution_count": 32,
     "metadata": {},
     "output_type": "execute_result"
    }
   ],
   "source": [
    "## similarity score\n",
    "## based on manhatten distance we get the score\n",
    "docs = vectordb.similarity_search_with_score(query)\n",
    "docs"
   ]
  },
  {
   "cell_type": "code",
   "execution_count": 35,
   "id": "87b74489",
   "metadata": {},
   "outputs": [
    {
     "data": {
      "text/plain": [
       "Document(id='dddd2b77-e625-49e7-8ffa-cb1d73878a52', metadata={'source': 'D:\\\\LangChain Project\\\\VectorStore\\\\speech.txt'}, page_content=\"Is there anything else I can assist you with?\\nThank you for choosing Bharti Local Market.\\n\\nWe're experiencing a high volume of requests, please bear with us for a moment.\\nWe are currently processing your request.\\nPlease hold while we retrieve your information.\\n\\nWe’ve sent you a confirmation email with your service details.\\nYou will receive a reminder message 24 hours before your service appointment.\")"
      ]
     },
     "execution_count": 35,
     "metadata": {},
     "output_type": "execute_result"
    }
   ],
   "source": [
    "## retriver option\n",
    "retriever = vectordb.as_retriever()\n",
    "retriever.invoke(query)[0]"
   ]
  },
  {
   "cell_type": "code",
   "execution_count": null,
   "id": "2feb907d",
   "metadata": {},
   "outputs": [],
   "source": []
  }
 ],
 "metadata": {
  "kernelspec": {
   "display_name": "base",
   "language": "python",
   "name": "python3"
  },
  "language_info": {
   "codemirror_mode": {
    "name": "ipython",
    "version": 3
   },
   "file_extension": ".py",
   "mimetype": "text/x-python",
   "name": "python",
   "nbconvert_exporter": "python",
   "pygments_lexer": "ipython3",
   "version": "3.12.7"
  }
 },
 "nbformat": 4,
 "nbformat_minor": 5
}
